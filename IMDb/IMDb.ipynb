{
 "cells": [
  {
   "attachments": {},
   "cell_type": "markdown",
   "metadata": {},
   "source": [
    "# Notebook de TVI sobre IMDb"
   ]
  },
  {
   "attachments": {},
   "cell_type": "markdown",
   "metadata": {},
   "source": [
    "### Ejercicio 1: Representad de forma geográfica (que incluya también una representación cuantitativa por presupuestos) los países productores de las películas.\n",
    "\n",
    "La petición encaja mejor en la categoría de composición, ya que se está solicitando representar geográficamente los países productores de películas, junto con una representación cuantitativa de sus presupuestos. En otras palabras, se está solicitando una visualización que muestre la proporción de la producción de películas en cada país, junto con información sobre el presupuesto asociado a cada país.\n",
    "\n",
    "La petición no especifica si se requiere una representación estática o una representación con cambios en el tiempo. Si se requiere una representación estática, se podría crear un mapa que muestre los países productores de películas con diferentes colores y tamaños de acuerdo con el presupuesto asignado a cada país. Si se requiere una representación con cambios en el tiempo, se podría crear una visualización dinámica que muestre la producción de películas por país a lo largo de un período de tiempo específico, por ejemplo, de un año o una década."
   ]
  },
  {
   "cell_type": "code",
   "execution_count": null,
   "metadata": {
    "vscode": {
     "languageId": "plaintext"
    }
   },
   "outputs": [],
   "source": []
  }
 ],
 "metadata": {
  "language_info": {
   "name": "python"
  },
  "orig_nbformat": 4
 },
 "nbformat": 4,
 "nbformat_minor": 2
}
